{
    "cells": [
        {
            "cell_type": "markdown",
            "metadata": {},
            "source": [
                "# Exploração e Transformação dos Dados do Censo Escolar\n",
                "\n",
                "Este notebook explora os dados do Censo Escolar e aplica transformações usando as classes do projeto."
            ]
        },
        {
            "cell_type": "code",
            "execution_count": null,
            "metadata": {},
            "outputs": [
                {
                    "ename": "ModuleNotFoundError",
                    "evalue": "No module named 'src'",
                    "output_type": "error",
                    "traceback": [
                        "\u001b[1;31m---------------------------------------------------------------------------\u001b[0m",
                        "\u001b[1;31mModuleNotFoundError\u001b[0m                       Traceback (most recent call last)",
                        "Cell \u001b[1;32mIn[3], line 16\u001b[0m\n\u001b[0;32m     13\u001b[0m sys\u001b[38;5;241m.\u001b[39mpath\u001b[38;5;241m.\u001b[39mappend(\u001b[38;5;28mstr\u001b[39m(project_root))\n\u001b[0;32m     15\u001b[0m \u001b[38;5;66;03m# Imports do projeto\u001b[39;00m\n\u001b[1;32m---> 16\u001b[0m \u001b[38;5;28;01mfrom\u001b[39;00m\u001b[38;5;250m \u001b[39m\u001b[38;5;21;01msrc\u001b[39;00m\u001b[38;5;21;01m.\u001b[39;00m\u001b[38;5;21;01mextractor\u001b[39;00m\u001b[38;5;250m \u001b[39m\u001b[38;5;28;01mimport\u001b[39;00m CensoExtractor\n\u001b[0;32m     17\u001b[0m \u001b[38;5;28;01mfrom\u001b[39;00m\u001b[38;5;250m \u001b[39m\u001b[38;5;21;01msrc\u001b[39;00m\u001b[38;5;21;01m.\u001b[39;00m\u001b[38;5;21;01mtransform\u001b[39;00m\u001b[38;5;250m \u001b[39m\u001b[38;5;28;01mimport\u001b[39;00m CensoTransformer\n\u001b[0;32m     18\u001b[0m \u001b[38;5;28;01mfrom\u001b[39;00m\u001b[38;5;250m \u001b[39m\u001b[38;5;21;01msrc\u001b[39;00m\u001b[38;5;21;01m.\u001b[39;00m\u001b[38;5;21;01mconfig\u001b[39;00m\u001b[38;5;250m \u001b[39m\u001b[38;5;28;01mimport\u001b[39;00m CSV_FILES, PROCESSED_DIR\n",
                        "\u001b[1;31mModuleNotFoundError\u001b[0m: No module named 'src'"
                    ]
                }
            ],
            "source": [
                "import sys\n",
                "from pathlib import Path\n",
                "import logging\n",
                "import pandas as pd\n",
                "import numpy as np\n",
                "import matplotlib.pyplot as plt\n",
                "import seaborn as sns\n",
                "\n",
                "src.ec\n"
            ]
        },
        {
            "cell_type": "code",
            "execution_count": null,
            "metadata": {},
            "outputs": [],
            "source": []
        },
        {
            "cell_type": "code",
            "execution_count": 5,
            "metadata": {},
            "outputs": [
                {
                    "ename": "NameError",
                    "evalue": "name 'CensoExtractor' is not defined",
                    "output_type": "error",
                    "traceback": [
                        "\u001b[1;31m---------------------------------------------------------------------------\u001b[0m",
                        "\u001b[1;31mNameError\u001b[0m                                 Traceback (most recent call last)",
                        "Cell \u001b[1;32mIn[5], line 2\u001b[0m\n\u001b[0;32m      1\u001b[0m \u001b[38;5;66;03m# Carrega os dados\u001b[39;00m\n\u001b[1;32m----> 2\u001b[0m extractor \u001b[38;5;241m=\u001b[39m \u001b[43mCensoExtractor\u001b[49m()\n\u001b[0;32m      4\u001b[0m \u001b[38;5;66;03m# Lista os arquivos disponíveis\u001b[39;00m\n\u001b[0;32m      5\u001b[0m \u001b[38;5;28mprint\u001b[39m(\u001b[38;5;124m\"\u001b[39m\u001b[38;5;124mArquivos disponíveis:\u001b[39m\u001b[38;5;124m\"\u001b[39m)\n",
                        "\u001b[1;31mNameError\u001b[0m: name 'CensoExtractor' is not defined"
                    ]
                }
            ],
            "source": [
                "# Carrega os dados\n",
                "extractor = CensoExtractor()\n",
                "\n",
                "# Lista os arquivos disponíveis\n",
                "print(\"Arquivos disponíveis:\")\n",
                "for key, path in CSV_FILES.items():\n",
                "    print(f\"- {key}: {path}\")"
            ]
        },
        {
            "cell_type": "code",
            "execution_count": null,
            "metadata": {},
            "outputs": [],
            "source": [
                "# Função auxiliar para análise básica\n",
                "def analise_basica(df, nome_arquivo):\n",
                "    print(f\"\\nAnálise do arquivo: {nome_arquivo}\")\n",
                "    print(f\"Dimensões: {df.shape}\")\n",
                "    print(\"\\nPrimeiras linhas:\")\n",
                "    display(df.head())\n",
                "    print(\"\\nInformações do DataFrame:\")\n",
                "    display(df.info())\n",
                "    print(\"\\nEstatísticas descritivas:\")\n",
                "    display(df.describe())\n",
                "    print(\"\\nValores nulos:\")\n",
                "    display(df.isnull().sum())"
            ]
        },
        {
            "cell_type": "code",
            "execution_count": null,
            "metadata": {},
            "outputs": [],
            "source": [
                "# Carrega, analisa e transforma cada arquivo\n",
                "for file_type in CSV_FILES.keys():\n",
                "    try:\n",
                "        df = extractor.read_data(file_type)\n",
                "        analise_basica(df, file_type)\n",
                "        \n",
                "        # Aplica transformações\n",
                "        df_transformed = transformer.transform_data(file_type, df)\n",
                "        print(f\"Transformação concluída para {file_type}\")\n",
                "    except Exception as e:\n",
                "        logger.error(f\"Erro ao processar {file_type}: {str(e)}\")"
            ]
        }
    ],
    "metadata": {
        "kernelspec": {
            "display_name": "venv",
            "language": "python",
            "name": "python3"
        },
        "language_info": {
            "codemirror_mode": {
                "name": "ipython",
                "version": 3
            },
            "file_extension": ".py",
            "mimetype": "text/x-python",
            "name": "python",
            "nbconvert_exporter": "python",
            "pygments_lexer": "ipython3",
            "version": "3.11.9"
        }
    },
    "nbformat": 4,
    "nbformat_minor": 4
}
